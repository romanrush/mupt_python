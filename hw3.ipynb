{
  "cells": [
    {
      "cell_type": "markdown",
      "source": [
        "## [Вместо предисловия](http://ilnurgi1.ru/docs/python/base/functions.html)"
      ],
      "metadata": {
        "id": "b55f71f0"
      }
    },
    {
      "cell_type": "code",
      "execution_count": 31,
      "source": [
        "!python --version"
      ],
      "outputs": [
        {
          "output_type": "stream",
          "name": "stdout",
          "text": [
            "Python 3.8.8\n"
          ]
        }
      ],
      "metadata": {
        "id": "f94216e7"
      }
    },
    {
      "cell_type": "markdown",
      "source": [
        "## Problem 0\r\n",
        "\r\n",
        "Напишите вашу собственную функцию `my_function`, принимающую позиционные аргументы `arg1, arg2` и именованный `arg3` с дефолтным значением `5`, также известно, что на вход ей будут приходить аргументы в любом количестве. Ваша функция должна быть **хорошей** (обладать документацией)!"
      ],
      "metadata": {
        "id": "f9f4190e"
      }
    },
    {
      "cell_type": "code",
      "execution_count": 54,
      "source": [
        "def my_function(arg1, arg2, *args, arg3=5, **kwargs):\r\n",
        "    \"\"\"\r\n",
        "    Function which prints arguments\r\n",
        "    \"\"\"\r\n",
        "    print(locals())"
      ],
      "outputs": [],
      "metadata": {
        "id": "4000f978"
      }
    },
    {
      "cell_type": "code",
      "execution_count": 55,
      "source": [
        "my_function(1, 2)\r\n",
        "print('____________________')\r\n",
        "my_function(1, 2, 3, 4, 5, arg3=6)\r\n",
        "print('____________________')\r\n",
        "my_function(1, 2, 3, 4, 5, arg3=6, arg4=7, arg5=8)"
      ],
      "outputs": [
        {
          "output_type": "stream",
          "name": "stdout",
          "text": [
            "{'arg1': 1, 'arg2': 2, 'arg3': 5, 'args': (), 'kwargs': {}}\n",
            "____________________\n",
            "{'arg1': 1, 'arg2': 2, 'arg3': 6, 'args': (3, 4, 5), 'kwargs': {}}\n",
            "____________________\n",
            "{'arg1': 1, 'arg2': 2, 'arg3': 6, 'args': (3, 4, 5), 'kwargs': {'arg4': 7, 'arg5': 8}}\n"
          ]
        }
      ],
      "metadata": {
        "id": "d654650c"
      }
    },
    {
      "cell_type": "markdown",
      "source": [
        "## Problem 1\n",
        "\n",
        "Реализуйте функцию `is_prime`, проверяющую целое число n на простоту."
      ],
      "metadata": {
        "id": "934dda1a"
      }
    },
    {
      "cell_type": "code",
      "execution_count": 34,
      "source": [
        "def is_prime(k):\r\n",
        "    \"\"\"Check if the number n is prime or not.\"\"\"\r\n",
        "    if k==2 or k==3: return True\r\n",
        "    if k%2==0 or k<2: return False\r\n",
        "    for i in range(3, int(k**0.5)+1, 2):\r\n",
        "        if k%i==0:\r\n",
        "            return False\r\n",
        "    return True\r\n",
        "    # your code here\r\n",
        "    # pass"
      ],
      "outputs": [],
      "metadata": {
        "id": "03a316f8"
      }
    },
    {
      "cell_type": "code",
      "execution_count": 35,
      "source": [
        "# tests\r\n",
        "assert is_prime(1) == False, 'test 1'\r\n",
        "assert is_prime(2), 'test 2'\r\n",
        "assert is_prime(3), 'test 3'\r\n",
        "assert is_prime(4) == False, 'test 4'\r\n",
        "assert is_prime(1013), 'test 5'"
      ],
      "outputs": [],
      "metadata": {
        "id": "3e6174db"
      }
    },
    {
      "cell_type": "markdown",
      "source": [
        "## Problem 2\n",
        "\n",
        "Напишите функцию `inspect_function`, которая в качестве аргумента принимает другую функцию (но не built-in).\n",
        "Функция выводит следующие данные, каждые с новой строки: название анализируемой функции, наименование всех принимаемых ею аргументов и их типы (позиционные, ключевые и т.п.).\n",
        "\n",
        "Вам поможет встроенный модуль [inspect](https://docs.python.org/3.7/library/inspect.html)."
      ],
      "metadata": {
        "id": "ddbbbd69"
      }
    },
    {
      "cell_type": "code",
      "execution_count": 58,
      "source": [
        "import inspect\r\n",
        "from math import sqrt  # for tests\r\n",
        "\r\n",
        "def my_function(text): \r\n",
        "    return text.upper() \r\n",
        "\r\n",
        "def inspect_function(func):\r\n",
        "    \"\"\"\r\n",
        "    Takes another function as an argument (but not built-in) \r\n",
        "    and print the following data: \r\n",
        "    the name of the analyzed function, \r\n",
        "    the name of all the arguments it takes \r\n",
        "    and their types (positional, keyword, etc.)\r\n",
        "    \"\"\"\r\n",
        "    # your code here\r\n",
        "    # storing the function in a variable \r\n",
        "    print(func.__name__)\r\n",
        "    greeting = my_function(\"function as an argument\") \r\n",
        "    print(greeting)\r\n",
        "\r\n"
      ],
      "outputs": [],
      "metadata": {
        "id": "d1d9bd0f"
      }
    },
    {
      "cell_type": "code",
      "execution_count": 59,
      "source": [
        "# tests\r\n",
        "inspect_function(my_function)\r\n",
        "print('____________________')\r\n",
        "inspect_function(sqrt)"
      ],
      "outputs": [
        {
          "output_type": "stream",
          "name": "stdout",
          "text": [
            "my_function\n",
            "FUNCTION AS AN ARGUMENT\n",
            "____________________\n",
            "sqrt\n",
            "FUNCTION AS AN ARGUMENT\n"
          ]
        }
      ],
      "metadata": {
        "id": "96b852dd"
      }
    },
    {
      "cell_type": "markdown",
      "source": [
        "## Problem 3"
      ],
      "metadata": {
        "id": "a5730e12"
      }
    },
    {
      "cell_type": "markdown",
      "source": [
        "Функция `my_time_now` работает неправильно. Исправьте ее так, чтобы она выводила текущее время с сообщением. Код предоставлен ниже."
      ],
      "metadata": {
        "id": "ff703047"
      }
    },
    {
      "cell_type": "code",
      "execution_count": 60,
      "source": [
        "from datetime import datetime\r\n",
        "from time import sleep  # for tests\r\n",
        "\r\n",
        "# wrong function:\r\n",
        "def my_time_now(msg):  #, *, dt=datetime.now()):\r\n",
        "    print(msg, datetime.now())"
      ],
      "outputs": [],
      "metadata": {
        "id": "28087cb6"
      }
    },
    {
      "cell_type": "code",
      "execution_count": 61,
      "source": [
        "# tests\r\n",
        "my_time_now('The time is now: ')\r\n",
        "sleep(1)\r\n",
        "my_time_now('The time is now: ')\r\n",
        "sleep(2)\r\n",
        "my_time_now('The time is now: ')"
      ],
      "outputs": [
        {
          "output_type": "stream",
          "name": "stdout",
          "text": [
            "The time is now:  2022-03-02 02:33:03.780718\n",
            "The time is now:  2022-03-02 02:33:04.781500\n",
            "The time is now:  2022-03-02 02:33:06.793672\n"
          ]
        }
      ],
      "metadata": {
        "id": "6711aef5",
        "outputId": "67b2bdd6-af1a-40f4-89d5-db530ca1c59f"
      }
    },
    {
      "cell_type": "markdown",
      "source": [
        "## Problem 4\r\n",
        "\r\n",
        "Реализуйте генератор, возвращающий **бесконечную** последовательность чисел из треугольника Паскаля. Последовательность, возвращаемая генератором, должна выглядеть так:\r\n",
        "`1 1 1 1 2 1 1 3 3 1 1 4 6 4 1 1 5 10 10 5 1 1 6 15 20 15 6 1 1 7 21 35 35 21 7 1 1 8 28 56 70 56 28 8 1 1 9 36 84 126 126 84 36 9 1 ...`. Генератор должен быть экономным по памяти! "
      ],
      "metadata": {
        "id": "f3d1e448"
      }
    },
    {
      "cell_type": "code",
      "execution_count": 75,
      "source": [
        "\r\n",
        "from math import factorial as fact\r\n",
        "\r\n",
        "\r\n",
        "comb = lambda n, k: fact(n) / (fact(k) * fact(n - k))\r\n",
        "\r\n",
        "def pascal():\r\n",
        "    \"\"\"\r\n",
        "    Yield up to row ``n`` of Pascal's triangle, one row at a time.\r\n",
        "\r\n",
        "    The first row is row 0.\r\n",
        "    \"\"\"\r\n",
        "    \"\"\"Prints Pascal's triangle up until the nth row.\"\"\"\r\n",
        "    i = 0\r\n",
        "    while True:\r\n",
        "        for j in range(i + 1):\r\n",
        "            yield comb(i,j)\r\n",
        "        i += 1\r\n",
        "\r\n",
        "blez_pascal = pascal()        \r\n",
        "\r\n",
        "[int(next(blez_pascal)) for _ in range(50)]\r\n"
      ],
      "outputs": [
        {
          "output_type": "execute_result",
          "data": {
            "text/plain": [
              "[1,\n",
              " 1,\n",
              " 1,\n",
              " 1,\n",
              " 2,\n",
              " 1,\n",
              " 1,\n",
              " 3,\n",
              " 3,\n",
              " 1,\n",
              " 1,\n",
              " 4,\n",
              " 6,\n",
              " 4,\n",
              " 1,\n",
              " 1,\n",
              " 5,\n",
              " 10,\n",
              " 10,\n",
              " 5,\n",
              " 1,\n",
              " 1,\n",
              " 6,\n",
              " 15,\n",
              " 20,\n",
              " 15,\n",
              " 6,\n",
              " 1,\n",
              " 1,\n",
              " 7,\n",
              " 21,\n",
              " 35,\n",
              " 35,\n",
              " 21,\n",
              " 7,\n",
              " 1,\n",
              " 1,\n",
              " 8,\n",
              " 28,\n",
              " 56,\n",
              " 70,\n",
              " 56,\n",
              " 28,\n",
              " 8,\n",
              " 1,\n",
              " 1,\n",
              " 9,\n",
              " 36,\n",
              " 84,\n",
              " 126]"
            ]
          },
          "metadata": {},
          "execution_count": 75
        }
      ],
      "metadata": {}
    },
    {
      "cell_type": "code",
      "execution_count": 76,
      "source": [
        "pascal_string = \"\"\"1 1 1 1 2 1 1 3 3 1 1 4 6 4 1 1 \r\n",
        "5 10 10 5 1 1 6 15 20 15 6 1 1 7 21 35 35 21 7 1 \r\n",
        "1 8 28 56 70 56 28 8 1 1 9 36 84 126\"\"\"\r\n",
        "blez_pascal = pascal()\r\n",
        "assert [next(blez_pascal) for _ in range(50)] == list(map(int, pascal_string.split()))"
      ],
      "outputs": [],
      "metadata": {
        "id": "428552b1"
      }
    },
    {
      "cell_type": "markdown",
      "source": [
        "## Problem 5\r\n",
        "\r\n",
        "Написать генератор `limit(generator, max_count)`.\r\n",
        "Возвращает не более `max_count` значений генератора `input_generator`"
      ],
      "metadata": {
        "id": "9270dbe5"
      }
    },
    {
      "cell_type": "code",
      "execution_count": 77,
      "source": [
        "def limit(input_generator, max_count):\r\n",
        "    \"\"\"Returns not more than max_count\r\n",
        "    values of the input_generator.\r\n",
        "    \"\"\"\r\n",
        "    # your code here\r\n",
        "    for _ in range(max_count):\r\n",
        "        yield next(input_generator)"
      ],
      "outputs": [],
      "metadata": {
        "id": "0303a12f"
      }
    },
    {
      "cell_type": "code",
      "execution_count": null,
      "source": [
        "# если pascal_triangle из предыдущего задания не реализован, то \r\n",
        "# напишите несколько своих тестов в этой ячейке\r\n",
        "# your code here"
      ],
      "outputs": [],
      "metadata": {
        "id": "f6511189"
      }
    },
    {
      "cell_type": "code",
      "execution_count": 78,
      "source": [
        "# tests\r\n",
        "assert list(limit(pascal(), 5)) == [1, 1, 1, 1, 2]\r\n",
        "assert 499 < len(list(limit(pascal(), 500))) < 501"
      ],
      "outputs": [],
      "metadata": {
        "id": "dddc1199"
      }
    },
    {
      "cell_type": "markdown",
      "source": [
        "## Problem 6\n",
        "\n",
        "Написать генератор `all_elements(lst)`.\n",
        "Возвращает все элементы списка `lst` **любой** вложенности.\n",
        "\n",
        "Указание: для проверки того, что объект итерируемый, можно проверить, что он наследник `Iterable` (используйте функции `isinstance`/`issubclass`  и модуль [`collections.abc`](https://docs.python.org/3/library/collections.abc.html))"
      ],
      "metadata": {
        "id": "5f7f5f09"
      }
    },
    {
      "cell_type": "code",
      "execution_count": 79,
      "source": [
        "# your code here\r\n",
        "\r\n",
        "def all_elements(lst):\r\n",
        "    for elem in lst:\r\n",
        "        if not isinstance(elem,list):\r\n",
        "            yield elem\r\n",
        "        else:\r\n",
        "            yield from all_elements(elem)"
      ],
      "outputs": [],
      "metadata": {
        "id": "29f9bb21"
      }
    },
    {
      "cell_type": "code",
      "execution_count": 80,
      "source": [
        "# test\r\n",
        "lst = [1, [2, 3], [4, [5, 6], [[[7]]]], 8]\r\n",
        "assert list(all_elements(lst)) == [1, 2, 3, 4, 5, 6, 7, 8]"
      ],
      "outputs": [],
      "metadata": {
        "id": "8af89f17"
      }
    },
    {
      "cell_type": "markdown",
      "source": [
        "## Problem 7\n",
        "\n",
        "Напишите генератор `merge_sorter`, выполняющий слияние отсортированных последовательностей целых чисел.\n",
        "\n",
        "Генератор принимает произвольное число аргументов. Аргументом может быть любой итерируемый объект, в том числе другой генератор. Гарантируется, что каждый аргумент — это последовательность (или генератор) целых чисел, отсортированных в порядке неубывания.\n",
        "\n",
        "Для реализации слияния может пригодиться модуль [heapq](https://docs.python.org/3.0/library/heapq.html).\n",
        "\n",
        "Если вы хотите познакомиться с алгоритмами сортировки, один из которых называется `сортировка слияние` (`merge_sort`), то вам может пригодиться [эта](https://tproger.ru/translations/sorting-algorithms-in-python/) страница с реализациями некоторых алгоритмов сортировки на python. "
      ],
      "metadata": {
        "id": "1c589415"
      }
    },
    {
      "cell_type": "code",
      "execution_count": 81,
      "source": [
        "from heapq import merge\r\n",
        "import heapq\r\n",
        "\r\n",
        "def merge_sorter(*args):\r\n",
        "    # your code here\r\n",
        "    heap = []\r\n",
        "    iterable = list(map(iter, args))\r\n",
        "    for i in range(len(iterable)):\r\n",
        "        try:\r\n",
        "            heapq.heappush(heap, (next(iterable[i]), i))\r\n",
        "        except StopIteration:\r\n",
        "            pass\r\n",
        "    while True:\r\n",
        "        if len(heap) == 0:\r\n",
        "            break\r\n",
        "        index = heap[0][1]\r\n",
        "        yield heap[0][0]\r\n",
        "        try:\r\n",
        "            heapq.heappop(heap)\r\n",
        "        except IndexError:\r\n",
        "            pass\r\n",
        "        try:\r\n",
        "            heapq.heappush(heap, (next(iterable[index]), index))\r\n",
        "        except StopIteration:\r\n",
        "            pass"
      ],
      "outputs": [],
      "metadata": {
        "id": "606b9941"
      }
    },
    {
      "cell_type": "code",
      "execution_count": 82,
      "source": [
        "assert list(merge_sorter([11, 22, 33], [3, 13, 23], [0, 10, 20])) == [0, 3, 10, 11, 13, 20, 22, 23, 33]"
      ],
      "outputs": [],
      "metadata": {
        "id": "bdc1620c"
      }
    },
    {
      "cell_type": "markdown",
      "source": [
        "## Problem 8* (20%)\n",
        "\n",
        "Напишите декоратор @proﬁler, который при вызове функции будет сохранять в её атрибуты (не путать с аргументами) время ее исполнения (в секундах, можно дробное) и количество рекурсивных вызовов, произошедших при исполнении. Атрибуты назовите last_time_taken и calls.\n",
        "Пользоваться глобальными переменными запрещено.\n",
        "Декоратор должен вести себя порядочно, то есть не должен затирать **документацию и имя** функции.\n",
        "\n",
        "Для простого теста создана функция `sleepy_recursion`, но для выполнения задания на полный балл проверить работу ваших декораторов стоит на функции [Аккермана](https://ru.wikipedia.org/wiki/%D0%A4%D1%83%D0%BD%D0%BA%D1%86%D0%B8%D1%8F_%D0%90%D0%BA%D0%BA%D0%B5%D1%80%D0%BC%D0%B0%D0%BD%D0%B0) или на функции, принимающей в себя произвольное число списков и склеивающей их в один, правда для этого реализовать их придется самостоятельно :) "
      ],
      "metadata": {
        "id": "fb1bca4d"
      }
    },
    {
      "cell_type": "code",
      "execution_count": 51,
      "source": [
        "import time\r\n",
        "import functools\r\n",
        " \r\n",
        " \r\n",
        "def profiler(func):\r\n",
        "    func.last_time_taken = 0\r\n",
        "    func.calls = 0\r\n",
        " \r\n",
        "    @functools.wraps(func)\r\n",
        "    def wrapped(*args):\r\n",
        "        print(time.process_time())\r\n",
        "        time_start = time.process_time()\r\n",
        "        ans = func(*args)\r\n",
        "        func.calls += 1\r\n",
        "        func.last_time_taken = time.process_time() - time_start\r\n",
        "        print('count = ', func.calls)\r\n",
        "        print('last time = ', func.last_time_taken)\r\n",
        "        return ans\r\n",
        "    #func.calls = 0\r\n",
        "    #func.last_time_taken = 0\r\n",
        "    return wrapped\r\n",
        " \r\n",
        " \r\n",
        "@profiler\r\n",
        "def sleepy_recursion(num_calls):\r\n",
        "    'I am a strange sleepy recursive function'\r\n",
        "    time.sleep(1)\r\n",
        "    if num_calls > 1:\r\n",
        "        sleepy_recursion(num_calls - 1)\r\n",
        "        print(sleepy_recursion.last_time_taken)\r\n",
        " \r\n",
        "print(dir(sleepy_recursion))\r\n",
        " \r\n",
        "sleepy_recursion(3)\r\n",
        " \r\n",
        "print(sleepy_recursion.__doc__)\r\n",
        "print(sleepy_recursion.last_time_taken)\r\n",
        "print(sleepy_recursion.calls)"
      ],
      "outputs": [
        {
          "output_type": "stream",
          "name": "stdout",
          "text": [
            "['__annotations__', '__call__', '__class__', '__closure__', '__code__', '__defaults__', '__delattr__', '__dict__', '__dir__', '__doc__', '__eq__', '__format__', '__ge__', '__get__', '__getattribute__', '__globals__', '__gt__', '__hash__', '__init__', '__init_subclass__', '__kwdefaults__', '__le__', '__lt__', '__module__', '__name__', '__ne__', '__new__', '__qualname__', '__reduce__', '__reduce_ex__', '__repr__', '__setattr__', '__sizeof__', '__str__', '__subclasshook__', '__wrapped__', 'calls', 'last_time_taken']\n",
            "7.328125\n",
            "7.34375\n",
            "7.34375\n",
            "count =  1\n",
            "last time =  0.0\n",
            "0\n",
            "count =  2\n",
            "last time =  0.0\n",
            "0\n",
            "count =  3\n",
            "last time =  0.015625\n",
            "I am a strange sleepy recursive function\n",
            "0\n",
            "0\n"
          ]
        }
      ],
      "metadata": {
        "id": "28092df2"
      }
    },
    {
      "cell_type": "code",
      "execution_count": 83,
      "source": [
        "def ackermann(n, m):\r\n",
        "    \"\"\"ackermann function\"\"\"\r\n",
        "    # your code here\r\n",
        "    raise NotImplementedError"
      ],
      "outputs": [],
      "metadata": {
        "id": "f73ab81f"
      }
    },
    {
      "cell_type": "code",
      "execution_count": 84,
      "source": [
        "# simple test\r\n",
        "@profiler\r\n",
        "def sleepy_recursion(num_calls):\r\n",
        "    \"I am a strange sleepy recursive function\"\r\n",
        "    time.sleep(1)\r\n",
        "    if num_calls > 1:\r\n",
        "        sleepy_recursion(num_calls - 1)\r\n",
        "\r\n",
        "sleepy_recursion(3)\r\n",
        "\r\n",
        "assert sleepy_recursion.__name__ == 'sleepy_recursion'\r\n",
        "assert sleepy_recursion.__doc__ == 'I am a strange sleepy recursive function'\r\n",
        "assert round(sleepy_recursion.last_time_taken) == 3\r\n",
        "assert sleepy_recursion.calls == 3"
      ],
      "outputs": [
        {
          "output_type": "stream",
          "name": "stdout",
          "text": [
            "9.1875\n",
            "9.1875\n",
            "9.1875\n",
            "count =  1\n",
            "last time =  0.0\n",
            "count =  2\n",
            "last time =  0.0\n",
            "count =  3\n",
            "last time =  0.0\n"
          ]
        },
        {
          "output_type": "error",
          "ename": "AssertionError",
          "evalue": "",
          "traceback": [
            "\u001b[1;31m---------------------------------------------------------------------------\u001b[0m",
            "\u001b[1;31mAssertionError\u001b[0m                            Traceback (most recent call last)",
            "\u001b[1;32m~\\AppData\\Local\\Temp/ipykernel_34360/1053895934.py\u001b[0m in \u001b[0;36m<module>\u001b[1;34m\u001b[0m\n\u001b[0;32m     11\u001b[0m \u001b[1;32massert\u001b[0m \u001b[0msleepy_recursion\u001b[0m\u001b[1;33m.\u001b[0m\u001b[0m__name__\u001b[0m \u001b[1;33m==\u001b[0m \u001b[1;34m'sleepy_recursion'\u001b[0m\u001b[1;33m\u001b[0m\u001b[1;33m\u001b[0m\u001b[0m\n\u001b[0;32m     12\u001b[0m \u001b[1;32massert\u001b[0m \u001b[0msleepy_recursion\u001b[0m\u001b[1;33m.\u001b[0m\u001b[0m__doc__\u001b[0m \u001b[1;33m==\u001b[0m \u001b[1;34m'I am a strange sleepy recursive function'\u001b[0m\u001b[1;33m\u001b[0m\u001b[1;33m\u001b[0m\u001b[0m\n\u001b[1;32m---> 13\u001b[1;33m \u001b[1;32massert\u001b[0m \u001b[0mround\u001b[0m\u001b[1;33m(\u001b[0m\u001b[0msleepy_recursion\u001b[0m\u001b[1;33m.\u001b[0m\u001b[0mlast_time_taken\u001b[0m\u001b[1;33m)\u001b[0m \u001b[1;33m==\u001b[0m \u001b[1;36m3\u001b[0m\u001b[1;33m\u001b[0m\u001b[1;33m\u001b[0m\u001b[0m\n\u001b[0m\u001b[0;32m     14\u001b[0m \u001b[1;32massert\u001b[0m \u001b[0msleepy_recursion\u001b[0m\u001b[1;33m.\u001b[0m\u001b[0mcalls\u001b[0m \u001b[1;33m==\u001b[0m \u001b[1;36m3\u001b[0m\u001b[1;33m\u001b[0m\u001b[1;33m\u001b[0m\u001b[0m\n",
            "\u001b[1;31mAssertionError\u001b[0m: "
          ]
        }
      ],
      "metadata": {
        "id": "d5e28b2e"
      }
    },
    {
      "cell_type": "code",
      "execution_count": null,
      "source": [],
      "outputs": [],
      "metadata": {
        "id": "4fa48baf"
      }
    }
  ],
  "metadata": {
    "kernelspec": {
      "name": "python3",
      "display_name": "Python 3.8.8 64-bit ('base': conda)"
    },
    "language_info": {
      "codemirror_mode": {
        "name": "ipython",
        "version": 3
      },
      "file_extension": ".py",
      "mimetype": "text/x-python",
      "name": "python",
      "nbconvert_exporter": "python",
      "pygments_lexer": "ipython3",
      "version": "3.8.8"
    },
    "colab": {
      "name": "hw3",
      "provenance": []
    },
    "interpreter": {
      "hash": "b3ba2566441a7c06988d0923437866b63cedc61552a5af99d1f4fb67d367b25f"
    }
  },
  "nbformat": 4,
  "nbformat_minor": 5
}